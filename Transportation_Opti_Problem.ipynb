{
  "nbformat": 4,
  "nbformat_minor": 0,
  "metadata": {
    "colab": {
      "name": "Transportation_Opti_Problem.ipynb",
      "provenance": [],
      "authorship_tag": "ABX9TyMhod8Uv8HEFjf6siIPvypL",
      "include_colab_link": true
    },
    "kernelspec": {
      "name": "python3",
      "display_name": "Python 3"
    },
    "language_info": {
      "name": "python"
    }
  },
  "cells": [
    {
      "cell_type": "markdown",
      "metadata": {
        "id": "view-in-github",
        "colab_type": "text"
      },
      "source": [
        "<a href=\"https://colab.research.google.com/github/shreejitp/Optimization/blob/main/Transportation_Opti_Problem.ipynb\" target=\"_parent\"><img src=\"https://colab.research.google.com/assets/colab-badge.svg\" alt=\"Open In Colab\"/></a>"
      ]
    },
    {
      "cell_type": "code",
      "execution_count": null,
      "metadata": {
        "colab": {
          "base_uri": "https://localhost:8080/"
        },
        "id": "atLYZZ5IoIzd",
        "outputId": "b22e8c4d-bdcd-47fd-c984-a1b5a4d68fbb"
      },
      "outputs": [
        {
          "output_type": "stream",
          "name": "stdout",
          "text": [
            "Collecting pulp\n",
            "  Downloading PuLP-2.6.0-py3-none-any.whl (14.2 MB)\n",
            "\u001b[K     |████████████████████████████████| 14.2 MB 4.5 MB/s \n",
            "\u001b[?25hInstalling collected packages: pulp\n",
            "Successfully installed pulp-2.6.0\n"
          ]
        }
      ],
      "source": [
        "!pip install pulp"
      ]
    },
    {
      "cell_type": "markdown",
      "source": [
        "**Beer Transportation Problem**\n",
        "\n",
        "There are two Warehouses- A,B with a supply of s1 and s2 respectively.\n",
        "There are 5 bars with requirements of x1....x5\n",
        "\n",
        "We have costs for transporting beer from each of the warehouse to each of the bars. \n",
        "\n",
        "*Find the minimum cost of transportion. What is the optimal Route?*"
      ],
      "metadata": {
        "id": "SPVmDXCEtsrc"
      }
    },
    {
      "cell_type": "markdown",
      "source": [
        "https://www.coin-or.org/PuLP/CaseStudies/a_transportation_problem.html"
      ],
      "metadata": {
        "id": "Cu8JAD3qxvOp"
      }
    },
    {
      "cell_type": "code",
      "source": [
        "# Import PuLP modeler functions\n",
        "from pulp import *\n",
        "\n",
        "# Creates a list of all the supply nodes\n",
        "Warehouses = [\"A\", \"B\"]\n",
        "\n",
        "# Creates a dictionary for the number of units of supply for each supply node\n",
        "supply = {\"A\": 1000, \"B\": 4000}\n",
        "\n",
        "# Creates a list of all demand nodes\n",
        "Bars = [\"1\", \"2\", \"3\", \"4\", \"5\"]\n",
        "\n",
        "# Creates a dictionary for the number of units of demand for each demand node\n",
        "demand = {\n",
        "    \"1\": 500,\n",
        "    \"2\": 900,\n",
        "    \"3\": 1800,\n",
        "    \"4\": 200,\n",
        "    \"5\": 700,\n",
        "}\n",
        "\n",
        "# Creates a list of costs of each transportation path\n",
        "costs = [  # Bars\n",
        "    # 1 2 3 4 5\n",
        "    [2, 4, 5, 2, 1],  # A   Warehouses\n",
        "    [3, 1, 3, 2, 3],  # B\n",
        "]\n",
        "\n",
        "# The cost data is made into a dictionary\n",
        "costs = makeDict([Warehouses, Bars], costs, 0)\n",
        "\n",
        "# Creates the 'prob' variable to contain the problem data\n",
        "prob = LpProblem(\"Beer Distribution Problem\", LpMinimize)\n",
        "\n",
        "# Creates a list of tuples containing all the possible routes for transport\n",
        "Routes = [(w, b) for w in Warehouses for b in Bars]\n",
        "\n",
        "# A dictionary called 'Vars' is created to contain the referenced variables(the routes)\n",
        "vars = LpVariable.dicts(\"Route\", (Warehouses, Bars), 0, None, LpInteger)\n",
        "\n",
        "# The objective function is added to 'prob' first\n",
        "prob += (\n",
        "    lpSum([vars[w][b] * costs[w][b] for (w, b) in Routes]),\n",
        "    \"Sum_of_Transporting_Costs\",\n",
        ")\n",
        "\n",
        "# The supply maximum constraints are added to prob for each supply node (warehouse)\n",
        "for w in Warehouses:\n",
        "    prob += (\n",
        "        lpSum([vars[w][b] for b in Bars]) <= supply[w],\n",
        "        \"Sum_of_Products_out_of_Warehouse_%s\" % w,\n",
        "    )\n",
        "\n",
        "# The demand minimum constraints are added to prob for each demand node (bar)\n",
        "for b in Bars:\n",
        "    prob += (\n",
        "        lpSum([vars[w][b] for w in Warehouses]) >= demand[b],\n",
        "        \"Sum_of_Products_into_Bar%s\" % b,\n",
        "    )\n",
        "\n",
        "# The problem data is written to an .lp file\n",
        "prob.writeLP(\"BeerDistributionProblem.lp\")\n",
        "\n",
        "# The problem is solved using PuLP's choice of Solver\n",
        "prob.solve()\n",
        "\n",
        "# The status of the solution is printed to the screen\n",
        "print(\"Status:\", LpStatus[prob.status])\n",
        "\n",
        "# Each of the variables is printed with it's resolved optimum value\n",
        "for v in prob.variables():\n",
        "    print(v.name, \"=\", v.varValue)\n",
        "\n",
        "# The optimised objective function value is printed to the screen\n",
        "print(\"Total Cost of Transportation = \", value(prob.objective))\n"
      ],
      "metadata": {
        "colab": {
          "base_uri": "https://localhost:8080/"
        },
        "id": "zVlraeQjsXVo",
        "outputId": "bdbd2813-1865-4d35-9941-df999cba7a97"
      },
      "execution_count": null,
      "outputs": [
        {
          "output_type": "stream",
          "name": "stdout",
          "text": [
            "Status: Optimal\n",
            "Route_A_1 = 300.0\n",
            "Route_A_2 = 0.0\n",
            "Route_A_3 = 0.0\n",
            "Route_A_4 = 0.0\n",
            "Route_A_5 = 700.0\n",
            "Route_B_1 = 200.0\n",
            "Route_B_2 = 900.0\n",
            "Route_B_3 = 1800.0\n",
            "Route_B_4 = 200.0\n",
            "Route_B_5 = 0.0\n",
            "Total Cost of Transportation =  8600.0\n"
          ]
        },
        {
          "output_type": "stream",
          "name": "stderr",
          "text": [
            "/usr/local/lib/python3.7/dist-packages/pulp/pulp.py:1352: UserWarning: Spaces are not permitted in the name. Converted to '_'\n",
            "  warnings.warn(\"Spaces are not permitted in the name. Converted to '_'\")\n"
          ]
        }
      ]
    },
    {
      "cell_type": "code",
      "source": [
        "costs"
      ],
      "metadata": {
        "colab": {
          "base_uri": "https://localhost:8080/"
        },
        "id": "Ufqk-yHEsxmF",
        "outputId": "8cf2af11-d322-4777-ec36-0b8a0990a2b5"
      },
      "execution_count": null,
      "outputs": [
        {
          "output_type": "execute_result",
          "data": {
            "text/plain": [
              "defaultdict(<function pulp.utilities.__makeDict.<locals>.<lambda>>,\n",
              "            {'A': defaultdict(<function pulp.utilities.__makeDict.<locals>.<lambda>>,\n",
              "                         {'1': 2, '2': 4, '3': 5, '4': 2, '5': 1}),\n",
              "             'B': defaultdict(<function pulp.utilities.__makeDict.<locals>.<lambda>>,\n",
              "                         {'1': 3, '2': 1, '3': 3, '4': 2, '5': 3})})"
            ]
          },
          "metadata": {},
          "execution_count": 6
        }
      ]
    },
    {
      "cell_type": "code",
      "source": [
        ""
      ],
      "metadata": {
        "id": "UwiJxuYVvdkI"
      },
      "execution_count": null,
      "outputs": []
    }
  ]
}